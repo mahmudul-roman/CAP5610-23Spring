{
 "cells": [
  {
   "cell_type": "code",
   "execution_count": 1,
   "id": "dec4fea7",
   "metadata": {},
   "outputs": [],
   "source": [
    "# Imporing Modules\n",
    "\n",
    "import pandas as pd\n",
    "import matplotlib.pyplot as plt\n",
    "import os\n",
    "import numpy as np"
   ]
  },
  {
   "cell_type": "code",
   "execution_count": 2,
   "id": "d554e58f",
   "metadata": {},
   "outputs": [],
   "source": [
    "# Imporing Data Files\n",
    "\n",
    "df_Mobility_2020 = pd.read_csv('Data\\\\Mobility\\\\2020_US_Region_Mobility_Report.csv')\n",
    "df_Mobility_2021 = pd.read_csv('Data\\\\Mobility\\\\2021_US_Region_Mobility_Report.csv')\n",
    "df_Mobility_2022 = pd.read_csv('Data\\\\Mobility\\\\2022_US_Region_Mobility_Report.csv')\n",
    "\n",
    "df_Mobility_Raw = pd.concat([df_Mobility_2020, df_Mobility_2021, df_Mobility_2022])"
   ]
  },
  {
   "cell_type": "code",
   "execution_count": 3,
   "id": "48661f3b",
   "metadata": {},
   "outputs": [],
   "source": [
    "df_Mobility_FL = df_Mobility_Raw.loc[(df_Mobility_Raw['sub_region_1'] == \"Florida\")]\n",
    "df_Mobility_FL = df_Mobility_FL.drop(['country_region_code', 'country_region', 'census_fips_code', \n",
    "                                      'place_id', 'sub_region_1', 'metro_area', 'iso_3166_2_code'], axis=1)"
   ]
  },
  {
   "cell_type": "code",
   "execution_count": 4,
   "id": "376e26be",
   "metadata": {},
   "outputs": [
    {
     "data": {
      "text/html": [
       "<div>\n",
       "<style scoped>\n",
       "    .dataframe tbody tr th:only-of-type {\n",
       "        vertical-align: middle;\n",
       "    }\n",
       "\n",
       "    .dataframe tbody tr th {\n",
       "        vertical-align: top;\n",
       "    }\n",
       "\n",
       "    .dataframe thead th {\n",
       "        text-align: right;\n",
       "    }\n",
       "</style>\n",
       "<table border=\"1\" class=\"dataframe\">\n",
       "  <thead>\n",
       "    <tr style=\"text-align: right;\">\n",
       "      <th></th>\n",
       "      <th>county</th>\n",
       "      <th>date</th>\n",
       "      <th>RnR</th>\n",
       "      <th>GnP</th>\n",
       "      <th>Parks</th>\n",
       "      <th>Stations</th>\n",
       "      <th>Workplace</th>\n",
       "      <th>Residential</th>\n",
       "    </tr>\n",
       "  </thead>\n",
       "  <tbody>\n",
       "    <tr>\n",
       "      <th>84469</th>\n",
       "      <td>NaN</td>\n",
       "      <td>2020-02-15</td>\n",
       "      <td>2.0</td>\n",
       "      <td>0.0</td>\n",
       "      <td>9.0</td>\n",
       "      <td>2.0</td>\n",
       "      <td>-1.0</td>\n",
       "      <td>-1.0</td>\n",
       "    </tr>\n",
       "    <tr>\n",
       "      <th>84470</th>\n",
       "      <td>NaN</td>\n",
       "      <td>2020-02-16</td>\n",
       "      <td>4.0</td>\n",
       "      <td>1.0</td>\n",
       "      <td>8.0</td>\n",
       "      <td>2.0</td>\n",
       "      <td>-2.0</td>\n",
       "      <td>0.0</td>\n",
       "    </tr>\n",
       "    <tr>\n",
       "      <th>84471</th>\n",
       "      <td>NaN</td>\n",
       "      <td>2020-02-17</td>\n",
       "      <td>5.0</td>\n",
       "      <td>1.0</td>\n",
       "      <td>24.0</td>\n",
       "      <td>0.0</td>\n",
       "      <td>-19.0</td>\n",
       "      <td>4.0</td>\n",
       "    </tr>\n",
       "    <tr>\n",
       "      <th>84472</th>\n",
       "      <td>NaN</td>\n",
       "      <td>2020-02-18</td>\n",
       "      <td>3.0</td>\n",
       "      <td>2.0</td>\n",
       "      <td>13.0</td>\n",
       "      <td>6.0</td>\n",
       "      <td>1.0</td>\n",
       "      <td>0.0</td>\n",
       "    </tr>\n",
       "    <tr>\n",
       "      <th>84473</th>\n",
       "      <td>NaN</td>\n",
       "      <td>2020-02-19</td>\n",
       "      <td>3.0</td>\n",
       "      <td>0.0</td>\n",
       "      <td>15.0</td>\n",
       "      <td>5.0</td>\n",
       "      <td>2.0</td>\n",
       "      <td>0.0</td>\n",
       "    </tr>\n",
       "  </tbody>\n",
       "</table>\n",
       "</div>"
      ],
      "text/plain": [
       "      county        date  RnR  GnP  Parks  Stations  Workplace  Residential\n",
       "84469    NaN  2020-02-15  2.0  0.0    9.0       2.0       -1.0         -1.0\n",
       "84470    NaN  2020-02-16  4.0  1.0    8.0       2.0       -2.0          0.0\n",
       "84471    NaN  2020-02-17  5.0  1.0   24.0       0.0      -19.0          4.0\n",
       "84472    NaN  2020-02-18  3.0  2.0   13.0       6.0        1.0          0.0\n",
       "84473    NaN  2020-02-19  3.0  0.0   15.0       5.0        2.0          0.0"
      ]
     },
     "execution_count": 4,
     "metadata": {},
     "output_type": "execute_result"
    }
   ],
   "source": [
    "df_Mobility_FL = df_Mobility_FL.rename(columns={'sub_region_2': 'county',\n",
    "                                                'retail_and_recreation_percent_change_from_baseline': 'RnR',\n",
    "                                                'grocery_and_pharmacy_percent_change_from_baseline': 'GnP',\n",
    "                                               'parks_percent_change_from_baseline': 'Parks',\n",
    "                                               'transit_stations_percent_change_from_baseline': 'Stations',\n",
    "                                               'workplaces_percent_change_from_baseline': 'Workplace',\n",
    "                                               'residential_percent_change_from_baseline': 'Residential'})\n",
    "df_Mobility_FL.head()"
   ]
  },
  {
   "cell_type": "code",
   "execution_count": 5,
   "id": "71618e96",
   "metadata": {},
   "outputs": [],
   "source": [
    "df_Mobility_FL['date'] = pd.to_datetime(df_Mobility_FL['date'])\n",
    "df_Mobility_FL = df_Mobility_FL.dropna(subset='county').reset_index(drop=True)\n",
    "df_Mobility_FL.fillna(0, inplace=True)"
   ]
  },
  {
   "cell_type": "code",
   "execution_count": 6,
   "id": "3d9e1c13",
   "metadata": {},
   "outputs": [
    {
     "name": "stdout",
     "output_type": "stream",
     "text": [
      "                  county       date   RnR   GnP  Parks  Stations  Workplace  \\\n",
      "0         Alachua County 2020-02-15   3.0   2.0    4.0      -3.0        0.0   \n",
      "1         Alachua County 2020-02-16   3.0  -1.0    3.0      -5.0       -3.0   \n",
      "2         Alachua County 2020-02-17   2.0  -3.0   11.0       2.0      -16.0   \n",
      "3         Alachua County 2020-02-18   2.0   0.0    9.0       4.0        2.0   \n",
      "4         Alachua County 2020-02-19   0.0  -2.0   17.0       0.0        1.0   \n",
      "...                  ...        ...   ...   ...    ...       ...        ...   \n",
      "63132  Washington County 2022-10-11   5.0  13.0    0.0       0.0        9.0   \n",
      "63133  Washington County 2022-10-12   3.0  18.0    0.0       0.0       10.0   \n",
      "63134  Washington County 2022-10-13  14.0  24.0    0.0       0.0       13.0   \n",
      "63135  Washington County 2022-10-14   9.0  11.0    0.0       0.0        8.0   \n",
      "63136  Washington County 2022-10-15   4.0   0.0    0.0       0.0        5.0   \n",
      "\n",
      "       Residential  \n",
      "0             -1.0  \n",
      "1              0.0  \n",
      "2              3.0  \n",
      "3              0.0  \n",
      "4              0.0  \n",
      "...            ...  \n",
      "63132          6.0  \n",
      "63133          5.0  \n",
      "63134          4.0  \n",
      "63135          4.0  \n",
      "63136          0.0  \n",
      "\n",
      "[63137 rows x 8 columns]\n"
     ]
    }
   ],
   "source": [
    "print(df_Mobility_FL)"
   ]
  },
  {
   "cell_type": "code",
   "execution_count": 7,
   "id": "fd9fbb55",
   "metadata": {},
   "outputs": [
    {
     "data": {
      "text/html": [
       "<div>\n",
       "<style scoped>\n",
       "    .dataframe tbody tr th:only-of-type {\n",
       "        vertical-align: middle;\n",
       "    }\n",
       "\n",
       "    .dataframe tbody tr th {\n",
       "        vertical-align: top;\n",
       "    }\n",
       "\n",
       "    .dataframe thead th {\n",
       "        text-align: right;\n",
       "    }\n",
       "</style>\n",
       "<table border=\"1\" class=\"dataframe\">\n",
       "  <thead>\n",
       "    <tr style=\"text-align: right;\">\n",
       "      <th></th>\n",
       "      <th>date</th>\n",
       "      <th>RnR</th>\n",
       "      <th>GnP</th>\n",
       "      <th>Parks</th>\n",
       "      <th>Stations</th>\n",
       "      <th>Workplace</th>\n",
       "      <th>Residential</th>\n",
       "    </tr>\n",
       "    <tr>\n",
       "      <th>county</th>\n",
       "      <th></th>\n",
       "      <th></th>\n",
       "      <th></th>\n",
       "      <th></th>\n",
       "      <th></th>\n",
       "      <th></th>\n",
       "      <th></th>\n",
       "    </tr>\n",
       "  </thead>\n",
       "  <tbody>\n",
       "    <tr>\n",
       "      <th>Alachua County</th>\n",
       "      <td>974</td>\n",
       "      <td>974</td>\n",
       "      <td>974</td>\n",
       "      <td>974</td>\n",
       "      <td>974</td>\n",
       "      <td>974</td>\n",
       "      <td>974</td>\n",
       "    </tr>\n",
       "    <tr>\n",
       "      <th>Baker County</th>\n",
       "      <td>949</td>\n",
       "      <td>949</td>\n",
       "      <td>949</td>\n",
       "      <td>949</td>\n",
       "      <td>949</td>\n",
       "      <td>949</td>\n",
       "      <td>949</td>\n",
       "    </tr>\n",
       "    <tr>\n",
       "      <th>Bay County</th>\n",
       "      <td>974</td>\n",
       "      <td>974</td>\n",
       "      <td>974</td>\n",
       "      <td>974</td>\n",
       "      <td>974</td>\n",
       "      <td>974</td>\n",
       "      <td>974</td>\n",
       "    </tr>\n",
       "    <tr>\n",
       "      <th>Bradford County</th>\n",
       "      <td>949</td>\n",
       "      <td>949</td>\n",
       "      <td>949</td>\n",
       "      <td>949</td>\n",
       "      <td>949</td>\n",
       "      <td>949</td>\n",
       "      <td>949</td>\n",
       "    </tr>\n",
       "    <tr>\n",
       "      <th>Brevard County</th>\n",
       "      <td>974</td>\n",
       "      <td>974</td>\n",
       "      <td>974</td>\n",
       "      <td>974</td>\n",
       "      <td>974</td>\n",
       "      <td>974</td>\n",
       "      <td>974</td>\n",
       "    </tr>\n",
       "    <tr>\n",
       "      <th>...</th>\n",
       "      <td>...</td>\n",
       "      <td>...</td>\n",
       "      <td>...</td>\n",
       "      <td>...</td>\n",
       "      <td>...</td>\n",
       "      <td>...</td>\n",
       "      <td>...</td>\n",
       "    </tr>\n",
       "    <tr>\n",
       "      <th>Union County</th>\n",
       "      <td>693</td>\n",
       "      <td>693</td>\n",
       "      <td>693</td>\n",
       "      <td>693</td>\n",
       "      <td>693</td>\n",
       "      <td>693</td>\n",
       "      <td>693</td>\n",
       "    </tr>\n",
       "    <tr>\n",
       "      <th>Volusia County</th>\n",
       "      <td>974</td>\n",
       "      <td>974</td>\n",
       "      <td>974</td>\n",
       "      <td>974</td>\n",
       "      <td>974</td>\n",
       "      <td>974</td>\n",
       "      <td>974</td>\n",
       "    </tr>\n",
       "    <tr>\n",
       "      <th>Wakulla County</th>\n",
       "      <td>968</td>\n",
       "      <td>968</td>\n",
       "      <td>968</td>\n",
       "      <td>968</td>\n",
       "      <td>968</td>\n",
       "      <td>968</td>\n",
       "      <td>968</td>\n",
       "    </tr>\n",
       "    <tr>\n",
       "      <th>Walton County</th>\n",
       "      <td>974</td>\n",
       "      <td>974</td>\n",
       "      <td>974</td>\n",
       "      <td>974</td>\n",
       "      <td>974</td>\n",
       "      <td>974</td>\n",
       "      <td>974</td>\n",
       "    </tr>\n",
       "    <tr>\n",
       "      <th>Washington County</th>\n",
       "      <td>949</td>\n",
       "      <td>949</td>\n",
       "      <td>949</td>\n",
       "      <td>949</td>\n",
       "      <td>949</td>\n",
       "      <td>949</td>\n",
       "      <td>949</td>\n",
       "    </tr>\n",
       "  </tbody>\n",
       "</table>\n",
       "<p>67 rows × 7 columns</p>\n",
       "</div>"
      ],
      "text/plain": [
       "                   date  RnR  GnP  Parks  Stations  Workplace  Residential\n",
       "county                                                                    \n",
       "Alachua County      974  974  974    974       974        974          974\n",
       "Baker County        949  949  949    949       949        949          949\n",
       "Bay County          974  974  974    974       974        974          974\n",
       "Bradford County     949  949  949    949       949        949          949\n",
       "Brevard County      974  974  974    974       974        974          974\n",
       "...                 ...  ...  ...    ...       ...        ...          ...\n",
       "Union County        693  693  693    693       693        693          693\n",
       "Volusia County      974  974  974    974       974        974          974\n",
       "Wakulla County      968  968  968    968       968        968          968\n",
       "Walton County       974  974  974    974       974        974          974\n",
       "Washington County   949  949  949    949       949        949          949\n",
       "\n",
       "[67 rows x 7 columns]"
      ]
     },
     "execution_count": 7,
     "metadata": {},
     "output_type": "execute_result"
    }
   ],
   "source": [
    "df_Mobility_FL.groupby('county').count()"
   ]
  },
  {
   "cell_type": "code",
   "execution_count": 8,
   "id": "ad6ba30f",
   "metadata": {},
   "outputs": [
    {
     "name": "stdout",
     "output_type": "stream",
     "text": [
      "            date             county   RnR   GnP  Parks  Stations  Workplace  \\\n",
      "0     2020-02-15     Alachua County   3.0   2.0    4.0      -3.0        0.0   \n",
      "1     2020-02-16     Alachua County   3.0  -1.0    3.0      -5.0       -3.0   \n",
      "2     2020-02-17     Alachua County   2.0  -3.0   11.0       2.0      -16.0   \n",
      "3     2020-02-18     Alachua County   2.0   0.0    9.0       4.0        2.0   \n",
      "4     2020-02-19     Alachua County   0.0  -2.0   17.0       0.0        1.0   \n",
      "...          ...                ...   ...   ...    ...       ...        ...   \n",
      "65253 2022-10-11  Washington County   5.0  13.0    0.0       0.0        9.0   \n",
      "65254 2022-10-12  Washington County   3.0  18.0    0.0       0.0       10.0   \n",
      "65255 2022-10-13  Washington County  14.0  24.0    0.0       0.0       13.0   \n",
      "65256 2022-10-14  Washington County   9.0  11.0    0.0       0.0        8.0   \n",
      "65257 2022-10-15  Washington County   4.0   0.0    0.0       0.0        5.0   \n",
      "\n",
      "       Residential  \n",
      "0             -1.0  \n",
      "1              0.0  \n",
      "2              3.0  \n",
      "3              0.0  \n",
      "4              0.0  \n",
      "...            ...  \n",
      "65253          6.0  \n",
      "65254          5.0  \n",
      "65255          4.0  \n",
      "65256          4.0  \n",
      "65257          0.0  \n",
      "\n",
      "[65258 rows x 8 columns]\n"
     ]
    }
   ],
   "source": [
    "data = df_Mobility_FL\n",
    "\n",
    "# Create a reference date range for the period of interest\n",
    "date_range = pd.date_range(start='2020-02-15', end='2022-10-15', freq='D')\n",
    "\n",
    "# Create a new DataFrame with the complete date range for each county\n",
    "county_groups = data.groupby('county')\n",
    "filled_data = pd.DataFrame()\n",
    "for county, group in county_groups:\n",
    "    county_dates = pd.DataFrame({'date': date_range})\n",
    "    county_dates['county'] = county\n",
    "    county_dates = pd.merge(county_dates, group, how='outer', on=['county', 'date'])\n",
    "    filled_data = pd.concat([filled_data, county_dates])\n",
    "\n",
    "# Set the index to the date column\n",
    "filled_data = filled_data.set_index('date')\n",
    "\n",
    "# Perform linear interpolation to fill missing values\n",
    "filled_data = filled_data.groupby('county').apply(lambda group: group.interpolate(method='linear'))\n",
    "\n",
    "# Reset the index to include the date column as a regular column\n",
    "filled_data = filled_data.reset_index()\n",
    "\n",
    "# Print the filled data\n",
    "print(filled_data)"
   ]
  },
  {
   "cell_type": "code",
   "execution_count": 9,
   "id": "6909c502",
   "metadata": {},
   "outputs": [
    {
     "name": "stdout",
     "output_type": "stream",
     "text": [
      "                   date  RnR  GnP  Parks  Stations  Workplace  Residential\n",
      "county                                                                    \n",
      "Alachua County      974  974  974    974       974        974          974\n",
      "Baker County        974  974  974    974       974        974          974\n",
      "Bay County          974  974  974    974       974        974          974\n",
      "Bradford County     974  974  974    974       974        974          974\n",
      "Brevard County      974  974  974    974       974        974          974\n",
      "...                 ...  ...  ...    ...       ...        ...          ...\n",
      "Union County        974  974  974    974       974        974          974\n",
      "Volusia County      974  974  974    974       974        974          974\n",
      "Wakulla County      974  974  974    974       974        974          974\n",
      "Walton County       974  974  974    974       974        974          974\n",
      "Washington County   974  974  974    974       974        974          974\n",
      "\n",
      "[67 rows x 7 columns]\n"
     ]
    }
   ],
   "source": [
    "#Test\n",
    "print(filled_data.groupby('county').count())"
   ]
  },
  {
   "cell_type": "code",
   "execution_count": 10,
   "id": "41153017",
   "metadata": {},
   "outputs": [
    {
     "data": {
      "text/html": [
       "<div>\n",
       "<style scoped>\n",
       "    .dataframe tbody tr th:only-of-type {\n",
       "        vertical-align: middle;\n",
       "    }\n",
       "\n",
       "    .dataframe tbody tr th {\n",
       "        vertical-align: top;\n",
       "    }\n",
       "\n",
       "    .dataframe thead th {\n",
       "        text-align: right;\n",
       "    }\n",
       "</style>\n",
       "<table border=\"1\" class=\"dataframe\">\n",
       "  <thead>\n",
       "    <tr style=\"text-align: right;\">\n",
       "      <th></th>\n",
       "      <th>date</th>\n",
       "      <th>state</th>\n",
       "      <th>fips</th>\n",
       "      <th>cases</th>\n",
       "      <th>deaths</th>\n",
       "    </tr>\n",
       "  </thead>\n",
       "  <tbody>\n",
       "    <tr>\n",
       "      <th>0</th>\n",
       "      <td>2020-03-01</td>\n",
       "      <td>Florida</td>\n",
       "      <td>12</td>\n",
       "      <td>2</td>\n",
       "      <td>0</td>\n",
       "    </tr>\n",
       "    <tr>\n",
       "      <th>1</th>\n",
       "      <td>2020-03-02</td>\n",
       "      <td>Florida</td>\n",
       "      <td>12</td>\n",
       "      <td>2</td>\n",
       "      <td>0</td>\n",
       "    </tr>\n",
       "    <tr>\n",
       "      <th>2</th>\n",
       "      <td>2020-03-03</td>\n",
       "      <td>Florida</td>\n",
       "      <td>12</td>\n",
       "      <td>3</td>\n",
       "      <td>0</td>\n",
       "    </tr>\n",
       "    <tr>\n",
       "      <th>3</th>\n",
       "      <td>2020-03-04</td>\n",
       "      <td>Florida</td>\n",
       "      <td>12</td>\n",
       "      <td>3</td>\n",
       "      <td>0</td>\n",
       "    </tr>\n",
       "    <tr>\n",
       "      <th>4</th>\n",
       "      <td>2020-03-05</td>\n",
       "      <td>Florida</td>\n",
       "      <td>12</td>\n",
       "      <td>4</td>\n",
       "      <td>0</td>\n",
       "    </tr>\n",
       "  </tbody>\n",
       "</table>\n",
       "</div>"
      ],
      "text/plain": [
       "        date    state  fips  cases  deaths\n",
       "0 2020-03-01  Florida    12      2       0\n",
       "1 2020-03-02  Florida    12      2       0\n",
       "2 2020-03-03  Florida    12      3       0\n",
       "3 2020-03-04  Florida    12      3       0\n",
       "4 2020-03-05  Florida    12      4       0"
      ]
     },
     "execution_count": 10,
     "metadata": {},
     "output_type": "execute_result"
    }
   ],
   "source": [
    "# Import Infection Data (Florida State)\n",
    "df_infection_FL = pd.read_csv(r'Data\\Infection\\us-states.csv')\n",
    "df_infection_FL = df_infection_FL.loc[df_infection_FL['state'] == 'Florida']\n",
    "df_infection_FL['date'] = pd.to_datetime(df_infection_FL['date'])\n",
    "df_infection_FL = df_infection_FL.reset_index(drop=True)\n",
    "\n",
    "df_infection_FL.head()"
   ]
  },
  {
   "cell_type": "code",
   "execution_count": 11,
   "id": "37e76440",
   "metadata": {},
   "outputs": [
    {
     "name": "stdout",
     "output_type": "stream",
     "text": [
      "           date    state  fips    cases  deaths  daily_cases  7_day_avg_inf\n",
      "0    2020-03-01  Florida    12        2       0          NaN            NaN\n",
      "1    2020-03-02  Florida    12        2       0          0.0            NaN\n",
      "2    2020-03-03  Florida    12        3       0          1.0            NaN\n",
      "3    2020-03-04  Florida    12        3       0          0.0            NaN\n",
      "4    2020-03-05  Florida    12        4       0          1.0            NaN\n",
      "...         ...      ...   ...      ...     ...          ...            ...\n",
      "1090 2023-02-24  Florida    12  7473371   86294          0.0            0.0\n",
      "1091 2023-02-25  Florida    12  7473371   86294          0.0            0.0\n",
      "1092 2023-02-26  Florida    12  7473371   86294          0.0            0.0\n",
      "1093 2023-02-27  Florida    12  7473371   86294          0.0            0.0\n",
      "1094 2023-02-28  Florida    12  7473371   86294          0.0            0.0\n",
      "\n",
      "[1095 rows x 7 columns]\n"
     ]
    }
   ],
   "source": [
    "# Calculate 14 Day Average (Florida State)\n",
    "\n",
    "# calculate the daily infections data for Florida State\n",
    "df_infection_FL['daily_cases'] = df_infection_FL['cases'].diff().abs()\n",
    "df_infection_FL['7_day_avg_inf'] = df_infection_FL['daily_cases'].rolling(window=7).mean()\n",
    "\n",
    "print(df_infection_FL)"
   ]
  },
  {
   "cell_type": "code",
   "execution_count": 12,
   "id": "535b22d0",
   "metadata": {},
   "outputs": [
    {
     "name": "stdout",
     "output_type": "stream",
     "text": [
      "          date    state  fips    cases  deaths  daily_cases  7_day_avg_inf\n",
      "0   2020-03-01  Florida    12        2       0          NaN            NaN\n",
      "1   2020-03-02  Florida    12        2       0          0.0            NaN\n",
      "2   2020-03-03  Florida    12        3       0          1.0            NaN\n",
      "3   2020-03-04  Florida    12        3       0          0.0            NaN\n",
      "4   2020-03-05  Florida    12        4       0          1.0            NaN\n",
      "..         ...      ...   ...      ...     ...          ...            ...\n",
      "725 2022-02-24  Florida    12  5797657   69553       3401.0    3963.000000\n",
      "726 2022-02-25  Florida    12  5800599   69790       2942.0    3622.571429\n",
      "727 2022-02-26  Florida    12  5803337   69790       2738.0    3236.428571\n",
      "728 2022-02-27  Florida    12  5803337   69790          0.0    3236.428571\n",
      "729 2022-02-28  Florida    12  5806510   70084       3173.0    3689.714286\n",
      "\n",
      "[730 rows x 7 columns]\n"
     ]
    }
   ],
   "source": [
    "# Set the 'Date' column as the index of the dataframe\n",
    "df_infection_FL.set_index('date', inplace=True)\n",
    "\n",
    "# Select the rows within the desired date range\n",
    "start_date = '2020-03-01'\n",
    "end_date = '2022-02-28'\n",
    "filtered_df_inf = df_infection_FL.loc[start_date:end_date]\n",
    "\n",
    "# Reset the index of the filtered dataframe to the default index\n",
    "filtered_df_inf.reset_index(inplace=True)\n",
    "df_infection_FL.reset_index(inplace=True)\n",
    "\n",
    "# Print the filtered dataframe\n",
    "print(filtered_df_inf)"
   ]
  },
  {
   "cell_type": "code",
   "execution_count": 13,
   "id": "b9e9790e",
   "metadata": {},
   "outputs": [
    {
     "data": {
      "image/png": "[encoded data removed]",
      "text/plain": [
       "<Figure size 432x288 with 1 Axes>"
      ]
     },
     "metadata": {
      "needs_background": "light"
     },
     "output_type": "display_data"
    }
   ],
   "source": [
    "# Plot Daily Cases and 7 Day Avg for Florida State\n",
    "plt.bar(filtered_df_inf['date'], filtered_df_inf['daily_cases'], label='Daily Cases')\n",
    "plt.plot(filtered_df_inf['date'], filtered_df_inf['7_day_avg_inf'], label='7 Day Avg', color='red')\n",
    "plt.title(\"Florida Daily New Cases\")\n",
    "plt.legend()\n",
    "plt.xlabel('Date')\n",
    "plt.xticks(rotation=45)\n",
    "plt.ylabel('Cases')\n",
    "plt.tight_layout()\n",
    "filename = os.path.join('Figure/Avg', 'FL_daily_7_day_avg_inf' + '.jpeg')\n",
    "plt.savefig(filename, dpi=400)\n",
    "plt.show()"
   ]
  },
  {
   "cell_type": "code",
   "execution_count": 14,
   "id": "a819b629",
   "metadata": {},
   "outputs": [
    {
     "name": "stdout",
     "output_type": "stream",
     "text": [
      "            date             county   RnR   GnP  Parks  Stations  Workplace  \\\n",
      "0     2020-02-15     Alachua County   3.0   2.0    4.0      -3.0        0.0   \n",
      "1     2020-02-16     Alachua County   3.0  -1.0    3.0      -5.0       -3.0   \n",
      "2     2020-02-17     Alachua County   2.0  -3.0   11.0       2.0      -16.0   \n",
      "3     2020-02-18     Alachua County   2.0   0.0    9.0       4.0        2.0   \n",
      "4     2020-02-19     Alachua County   0.0  -2.0   17.0       0.0        1.0   \n",
      "...          ...                ...   ...   ...    ...       ...        ...   \n",
      "65253 2022-10-11  Washington County   5.0  13.0    0.0       0.0        9.0   \n",
      "65254 2022-10-12  Washington County   3.0  18.0    0.0       0.0       10.0   \n",
      "65255 2022-10-13  Washington County  14.0  24.0    0.0       0.0       13.0   \n",
      "65256 2022-10-14  Washington County   9.0  11.0    0.0       0.0        8.0   \n",
      "65257 2022-10-15  Washington County   4.0   0.0    0.0       0.0        5.0   \n",
      "\n",
      "       Residential  \n",
      "0             -1.0  \n",
      "1              0.0  \n",
      "2              3.0  \n",
      "3              0.0  \n",
      "4              0.0  \n",
      "...            ...  \n",
      "65253          6.0  \n",
      "65254          5.0  \n",
      "65255          4.0  \n",
      "65256          4.0  \n",
      "65257          0.0  \n",
      "\n",
      "[65258 rows x 8 columns]\n"
     ]
    }
   ],
   "source": [
    "print(filled_data)"
   ]
  },
  {
   "cell_type": "code",
   "execution_count": 15,
   "id": "0aafd982",
   "metadata": {},
   "outputs": [
    {
     "name": "stdout",
     "output_type": "stream",
     "text": [
      "          date       RnR       GnP      Parks  Stations  Workplace  \\\n",
      "0   2020-02-15  7.303030  2.030303  12.106061  5.666667  -0.348485   \n",
      "1   2020-02-16  4.530303 -0.727273   4.303030  3.106061  -2.015152   \n",
      "2   2020-02-17  4.567164 -0.358209  13.492537  4.059701 -17.656716   \n",
      "3   2020-02-18  2.865672  1.156716   7.835821  4.820896   1.268657   \n",
      "4   2020-02-19  3.059701  1.014925   9.208955  3.641791   1.298507   \n",
      "..         ...       ...       ...        ...       ...        ...   \n",
      "969 2022-10-11 -5.059701  2.298507  -1.492537 -4.716418 -13.191898   \n",
      "970 2022-10-12 -4.328358  1.402985  -3.283582 -5.507463 -13.134328   \n",
      "971 2022-10-13 -3.537313  2.970149  -3.328358 -3.925373 -13.298507   \n",
      "972 2022-10-14 -4.462687  3.059701  -0.029851 -7.313433 -14.223881   \n",
      "973 2022-10-15 -4.268657  2.492537   3.268657 -4.238806  -9.597015   \n",
      "\n",
      "     Residential  \n",
      "0      -0.348485  \n",
      "1       0.045455  \n",
      "2       2.417910  \n",
      "3       0.000000  \n",
      "4      -0.044776  \n",
      "..           ...  \n",
      "969     2.477612  \n",
      "970     2.447761  \n",
      "971     2.059701  \n",
      "972     2.253731  \n",
      "973     0.507463  \n",
      "\n",
      "[974 rows x 7 columns]\n"
     ]
    }
   ],
   "source": [
    "daily_mob_data_FL = filled_data.groupby('date').mean().reset_index()\n",
    "\n",
    "print(daily_mob_data_FL)"
   ]
  },
  {
   "cell_type": "code",
   "execution_count": 16,
   "id": "a3781519",
   "metadata": {},
   "outputs": [
    {
     "name": "stdout",
     "output_type": "stream",
     "text": [
      "          date       RnR       GnP      Parks  Stations  Workplace  \\\n",
      "0   2020-02-15  7.303030  2.030303  12.106061  5.666667  -0.348485   \n",
      "1   2020-02-16  4.530303 -0.727273   4.303030  3.106061  -2.015152   \n",
      "2   2020-02-17  4.567164 -0.358209  13.492537  4.059701 -17.656716   \n",
      "3   2020-02-18  2.865672  1.156716   7.835821  4.820896   1.268657   \n",
      "4   2020-02-19  3.059701  1.014925   9.208955  3.641791   1.298507   \n",
      "..         ...       ...       ...        ...       ...        ...   \n",
      "969 2022-10-11 -5.059701  2.298507  -1.492537 -4.716418 -13.191898   \n",
      "970 2022-10-12 -4.328358  1.402985  -3.283582 -5.507463 -13.134328   \n",
      "971 2022-10-13 -3.537313  2.970149  -3.328358 -3.925373 -13.298507   \n",
      "972 2022-10-14 -4.462687  3.059701  -0.029851 -7.313433 -14.223881   \n",
      "973 2022-10-15 -4.268657  2.492537   3.268657 -4.238806  -9.597015   \n",
      "\n",
      "     Residential   RnR_Avg   GnP_Avg  Parks_Avg  Stations_Avg  Workplace_Avg  \\\n",
      "0      -0.348485       NaN       NaN        NaN           NaN            NaN   \n",
      "1       0.045455       NaN       NaN        NaN           NaN            NaN   \n",
      "2       2.417910       NaN       NaN        NaN           NaN            NaN   \n",
      "3       0.000000       NaN       NaN        NaN           NaN            NaN   \n",
      "4      -0.044776       NaN       NaN        NaN           NaN            NaN   \n",
      "..           ...       ...       ...        ...           ...            ...   \n",
      "969     2.477612 -4.714286  2.061834  -0.138593     -5.891258     -13.946695   \n",
      "970     2.447761 -4.744136  1.784648  -0.460554     -5.773987     -13.624733   \n",
      "971     2.059701 -4.739872  1.769723  -0.965885     -5.562900     -13.607371   \n",
      "972     2.253731 -4.522388  1.974414  -1.027719     -5.353945     -13.406336   \n",
      "973     0.507463 -4.379531  2.142857  -0.829424     -5.156361     -13.445934   \n",
      "\n",
      "     Residential_Avg  \n",
      "0                NaN  \n",
      "1                NaN  \n",
      "2                NaN  \n",
      "3                NaN  \n",
      "4                NaN  \n",
      "..               ...  \n",
      "969         1.929638  \n",
      "970         1.953092  \n",
      "971         2.021322  \n",
      "972         1.997868  \n",
      "973         1.970149  \n",
      "\n",
      "[974 rows x 13 columns]\n"
     ]
    }
   ],
   "source": [
    "daily_mob_data_FL['RnR_Avg'] = daily_mob_data_FL['RnR'].rolling(window=7).mean()\n",
    "daily_mob_data_FL['GnP_Avg'] = daily_mob_data_FL['GnP'].rolling(window=7).mean()\n",
    "daily_mob_data_FL['Parks_Avg'] = daily_mob_data_FL['Parks'].rolling(window=7).mean()\n",
    "daily_mob_data_FL['Stations_Avg'] = daily_mob_data_FL['Stations'].rolling(window=7).mean()\n",
    "daily_mob_data_FL['Workplace_Avg'] = daily_mob_data_FL['Workplace'].rolling(window=7).mean()\n",
    "daily_mob_data_FL['Residential_Avg'] = daily_mob_data_FL['Residential'].rolling(window=7).mean()\n",
    "print(daily_mob_data_FL)"
   ]
  },
  {
   "cell_type": "code",
   "execution_count": 20,
   "id": "b025d9b4",
   "metadata": {},
   "outputs": [
    {
     "data": {
      "image/png": "[encoded data removed]",
      "text/plain": [
       "<Figure size 432x288 with 1 Axes>"
      ]
     },
     "metadata": {
      "needs_background": "light"
     },
     "output_type": "display_data"
    }
   ],
   "source": [
    "# Plot Daily Cases and 7 Day Avg for Florida State\n",
    "plt.bar(daily_mob_data_FL['date'], daily_mob_data_FL['Workplace'], label='Daily Mobility')\n",
    "plt.plot(daily_mob_data_FL['date'], daily_mob_data_FL['Workplace_Avg'], label='7 Day Avg', color='red')\n",
    "plt.title(\"Florida Daily Mobility (Workplace)\")\n",
    "plt.legend()\n",
    "plt.xlabel('Date')\n",
    "plt.xticks(rotation=45)\n",
    "plt.ylabel('Mobility')\n",
    "plt.tight_layout()\n",
    "filename = os.path.join('Figure/Avg', 'FL_daily_7_day_avg_mob_Work' + '.jpeg')\n",
    "plt.savefig(filename, dpi=400)\n",
    "plt.show()"
   ]
  },
  {
   "cell_type": "code",
   "execution_count": 21,
   "id": "511f40fe",
   "metadata": {},
   "outputs": [
    {
     "name": "stdout",
     "output_type": "stream",
     "text": [
      "          date        RnR       GnP      Parks  Stations  Workplace  \\\n",
      "0   2020-03-01  12.910448  7.231343  11.134328  7.955224   1.298507   \n",
      "1   2020-03-02   8.746269  6.253731   5.701493  3.119403   2.305970   \n",
      "2   2020-03-03  11.179104  9.753731   7.373134  3.641791   2.044776   \n",
      "3   2020-03-04   8.432836  6.940299   6.791045  2.850746   1.477612   \n",
      "4   2020-03-05   7.776119  5.701493   1.835821  3.417910   0.626866   \n",
      "..         ...        ...       ...        ...       ...        ...   \n",
      "725 2022-02-24   3.373134  5.597015  12.880597 -0.970149 -10.469083   \n",
      "726 2022-02-25   0.164179  3.895522  11.522388 -2.955224 -10.266525   \n",
      "727 2022-02-26   2.895522  3.865672  18.044776 -2.761194  -7.165956   \n",
      "728 2022-02-27   4.402985  4.417910  17.477612 -1.902985  -9.632552   \n",
      "729 2022-02-28   0.358209  3.522388   0.417910 -2.059701 -10.591684   \n",
      "\n",
      "     Residential    RnR_Avg   GnP_Avg  Parks_Avg  Stations_Avg  Workplace_Avg  \\\n",
      "0      -0.611940   8.164179  3.650320   2.773987      5.049041       1.388593   \n",
      "1      -0.462687   8.938166  4.430704   2.631130      5.228145       1.387527   \n",
      "2      -0.462687  10.147122  5.884861   3.759062      5.302772       1.498934   \n",
      "3      -0.179104  10.347548  6.652452   5.889126      5.202559       1.607676   \n",
      "4       0.074627   9.701493  6.569296   5.782516      4.867804       1.511727   \n",
      "..           ...        ...       ...        ...           ...            ...   \n",
      "725     2.328358   1.965885  4.383795  12.895522     -1.976546     -12.901310   \n",
      "726     2.776119   2.138593  4.503198  13.422175     -1.840085     -12.531221   \n",
      "727     0.641791   2.379531  4.513859  14.767591     -1.567164     -12.430602   \n",
      "728     0.805970   2.422175  4.586354  14.498934     -1.446695     -12.208194   \n",
      "729     2.746269   2.042644  4.479744  12.106610     -1.636461      -9.871459   \n",
      "\n",
      "     Residential_Avg  \n",
      "0          -0.189765  \n",
      "1          -0.253731  \n",
      "2          -0.394456  \n",
      "3          -0.488273  \n",
      "4          -0.409382  \n",
      "..               ...  \n",
      "725         2.684435  \n",
      "726         2.539446  \n",
      "727         2.415778  \n",
      "728         2.390192  \n",
      "729         2.098081  \n",
      "\n",
      "[730 rows x 13 columns]\n"
     ]
    }
   ],
   "source": [
    "# Set the 'Date' column as the index of the dataframe\n",
    "daily_mob_data_FL.set_index('date', inplace=True)\n",
    "\n",
    "# Select the rows within the desired date range\n",
    "start_date = '2020-03-01'\n",
    "end_date = '2022-02-28'\n",
    "filtered_df = daily_mob_data_FL.loc[start_date:end_date]\n",
    "\n",
    "# Reset the index of the filtered dataframe to the default index\n",
    "filtered_df.reset_index(inplace=True)\n",
    "daily_mob_data_FL.reset_index(inplace=True)\n",
    "\n",
    "# Print the filtered dataframe\n",
    "print(filtered_df)\n"
   ]
  },
  {
   "cell_type": "code",
   "execution_count": 48,
   "id": "7c9c4bee",
   "metadata": {
    "scrolled": true
   },
   "outputs": [
    {
     "name": "stdout",
     "output_type": "stream",
     "text": [
      "          date        RnR       GnP      Parks  Stations  Workplace  \\\n",
      "0   2020-03-01  12.910448  7.231343  11.134328  7.955224   1.298507   \n",
      "1   2020-03-02   8.746269  6.253731   5.701493  3.119403   2.305970   \n",
      "2   2020-03-03  11.179104  9.753731   7.373134  3.641791   2.044776   \n",
      "3   2020-03-04   8.432836  6.940299   6.791045  2.850746   1.477612   \n",
      "4   2020-03-05   7.776119  5.701493   1.835821  3.417910   0.626866   \n",
      "..         ...        ...       ...        ...       ...        ...   \n",
      "725 2022-02-24   3.373134  5.597015  12.880597 -0.970149 -10.469083   \n",
      "726 2022-02-25   0.164179  3.895522  11.522388 -2.955224 -10.266525   \n",
      "727 2022-02-26   2.895522  3.865672  18.044776 -2.761194  -7.165956   \n",
      "728 2022-02-27   4.402985  4.417910  17.477612 -1.902985  -9.632552   \n",
      "729 2022-02-28   0.358209  3.522388   0.417910 -2.059701 -10.591684   \n",
      "\n",
      "     Residential    RnR_Avg   GnP_Avg  Parks_Avg  Stations_Avg  Workplace_Avg  \\\n",
      "0      -0.611940   8.164179  3.650320   2.773987      5.049041       1.388593   \n",
      "1      -0.462687   8.938166  4.430704   2.631130      5.228145       1.387527   \n",
      "2      -0.462687  10.147122  5.884861   3.759062      5.302772       1.498934   \n",
      "3      -0.179104  10.347548  6.652452   5.889126      5.202559       1.607676   \n",
      "4       0.074627   9.701493  6.569296   5.782516      4.867804       1.511727   \n",
      "..           ...        ...       ...        ...           ...            ...   \n",
      "725     2.328358   1.965885  4.383795  12.895522     -1.976546     -12.901310   \n",
      "726     2.776119   2.138593  4.503198  13.422175     -1.840085     -12.531221   \n",
      "727     0.641791   2.379531  4.513859  14.767591     -1.567164     -12.430602   \n",
      "728     0.805970   2.422175  4.586354  14.498934     -1.446695     -12.208194   \n",
      "729     2.746269   2.042644  4.479744  12.106610     -1.636461      -9.871459   \n",
      "\n",
      "     Residential_Avg  \n",
      "0          -0.189765  \n",
      "1          -0.253731  \n",
      "2          -0.394456  \n",
      "3          -0.488273  \n",
      "4          -0.409382  \n",
      "..               ...  \n",
      "725         2.684435  \n",
      "726         2.539446  \n",
      "727         2.415778  \n",
      "728         2.390192  \n",
      "729         2.098081  \n",
      "\n",
      "[730 rows x 13 columns]\n"
     ]
    }
   ],
   "source": [
    "print(filtered_df)"
   ]
  },
  {
   "cell_type": "code",
   "execution_count": 22,
   "id": "fdf3e182",
   "metadata": {},
   "outputs": [],
   "source": [
    "processed_data = pd.merge(filtered_df, filtered_df_inf, on=['date'])\n",
    "processed_data = processed_data.drop(['GnP', 'RnR', 'Parks', \n",
    "                                      'Stations', 'Workplace', 'Residential', 'state', 'fips', 'cases', 'deaths', 'daily_cases'], axis=1)"
   ]
  },
  {
   "cell_type": "code",
   "execution_count": 23,
   "id": "957bd8f4",
   "metadata": {
    "scrolled": true
   },
   "outputs": [
    {
     "name": "stdout",
     "output_type": "stream",
     "text": [
      "          date    RnR_Avg   GnP_Avg  Parks_Avg  Stations_Avg  Workplace_Avg  \\\n",
      "0   2020-03-01   8.164179  3.650320   2.773987      5.049041       1.388593   \n",
      "1   2020-03-02   8.938166  4.430704   2.631130      5.228145       1.387527   \n",
      "2   2020-03-03  10.147122  5.884861   3.759062      5.302772       1.498934   \n",
      "3   2020-03-04  10.347548  6.652452   5.889126      5.202559       1.607676   \n",
      "4   2020-03-05   9.701493  6.569296   5.782516      4.867804       1.511727   \n",
      "..         ...        ...       ...        ...           ...            ...   \n",
      "725 2022-02-24   1.965885  4.383795  12.895522     -1.976546     -12.901310   \n",
      "726 2022-02-25   2.138593  4.503198  13.422175     -1.840085     -12.531221   \n",
      "727 2022-02-26   2.379531  4.513859  14.767591     -1.567164     -12.430602   \n",
      "728 2022-02-27   2.422175  4.586354  14.498934     -1.446695     -12.208194   \n",
      "729 2022-02-28   2.042644  4.479744  12.106610     -1.636461      -9.871459   \n",
      "\n",
      "     Residential_Avg  7_day_avg_inf  \n",
      "0          -0.189765            NaN  \n",
      "1          -0.253731            NaN  \n",
      "2          -0.394456            NaN  \n",
      "3          -0.488273            NaN  \n",
      "4          -0.409382            NaN  \n",
      "..               ...            ...  \n",
      "725         2.684435    3963.000000  \n",
      "726         2.539446    3622.571429  \n",
      "727         2.415778    3236.428571  \n",
      "728         2.390192    3236.428571  \n",
      "729         2.098081    3689.714286  \n",
      "\n",
      "[730 rows x 8 columns]\n"
     ]
    }
   ],
   "source": [
    "print(processed_data)"
   ]
  },
  {
   "cell_type": "code",
   "execution_count": 24,
   "id": "7914b2c5",
   "metadata": {},
   "outputs": [
    {
     "name": "stdout",
     "output_type": "stream",
     "text": [
      "          date   RnR_Avg    GnP_Avg  Parks_Avg  Stations_Avg  Workplace_Avg  \\\n",
      "0   2020-03-15  6.646055  12.858706  13.023454      2.697228      -0.756574   \n",
      "1   2020-03-16  5.731343  14.488699  12.844350      1.750533      -3.125800   \n",
      "2   2020-03-17  3.912580  15.909168  12.294243      0.646055      -5.865672   \n",
      "3   2020-03-18  1.191898  16.473348  11.068230     -0.968017      -9.059701   \n",
      "4   2020-03-19 -2.381663  15.901919   9.417910     -3.044776     -12.392324   \n",
      "..         ...       ...        ...        ...           ...            ...   \n",
      "711 2022-02-24  1.965885   4.383795  12.895522     -1.976546     -12.901310   \n",
      "712 2022-02-25  2.138593   4.503198  13.422175     -1.840085     -12.531221   \n",
      "713 2022-02-26  2.379531   4.513859  14.767591     -1.567164     -12.430602   \n",
      "714 2022-02-27  2.422175   4.586354  14.498934     -1.446695     -12.208194   \n",
      "715 2022-02-28  2.042644   4.479744  12.106610     -1.636461      -9.871459   \n",
      "\n",
      "     Residential_Avg  7_day_avg_inf  \n",
      "0           0.415778      13.714286  \n",
      "1           0.897655      18.142857  \n",
      "2           1.554371      26.714286  \n",
      "3           2.430704      42.857143  \n",
      "4           3.437100      55.428571  \n",
      "..               ...            ...  \n",
      "711         2.684435    3963.000000  \n",
      "712         2.539446    3622.571429  \n",
      "713         2.415778    3236.428571  \n",
      "714         2.390192    3236.428571  \n",
      "715         2.098081    3689.714286  \n",
      "\n",
      "[716 rows x 8 columns]\n"
     ]
    }
   ],
   "source": [
    "# Set the 'Date' column as the index of the dataframe\n",
    "processed_data.set_index('date', inplace=True)\n",
    "\n",
    "# Select the rows within the desired date range\n",
    "start_date = '2020-03-15'\n",
    "end_date = '2022-02-28'\n",
    "filtered_df = processed_data.loc[start_date:end_date]\n",
    "\n",
    "# Reset the index of the filtered dataframe to the default index\n",
    "filtered_df.reset_index(inplace=True)\n",
    "processed_data.reset_index(inplace=True)\n",
    "\n",
    "# Print the filtered dataframe\n",
    "print(filtered_df)"
   ]
  },
  {
   "cell_type": "code",
   "execution_count": 26,
   "id": "21b97c0a",
   "metadata": {},
   "outputs": [
    {
     "data": {
      "image/png": "[encoded data removed]",
      "text/plain": [
       "<Figure size 432x288 with 1 Axes>"
      ]
     },
     "metadata": {
      "needs_background": "light"
     },
     "output_type": "display_data"
    }
   ],
   "source": [
    "# Plot Daily Cases and 7 Day Avg for Florida State\n",
    "plt.plot(filtered_df['date'], filtered_df['RnR_Avg'], label='RnR')\n",
    "plt.plot(filtered_df['date'], filtered_df['GnP_Avg'], label='GnP')\n",
    "plt.plot(filtered_df['date'], filtered_df['Parks_Avg'], label='Parks')\n",
    "plt.plot(filtered_df['date'], filtered_df['Stations_Avg'], label='Stations')\n",
    "plt.plot(filtered_df['date'], filtered_df['Workplace_Avg'], label='Work')\n",
    "plt.plot(filtered_df['date'], filtered_df['Residential_Avg'], label='Home')\n",
    "plt.title(\"Florida 7 Day Average Mobility\")\n",
    "plt.legend()\n",
    "plt.xlabel('Date')\n",
    "plt.xticks(rotation=45)\n",
    "plt.ylabel('Mobility')\n",
    "plt.tight_layout()\n",
    "filename = os.path.join('Figure/Avg', 'FL_daily_7_day_avg_mob_filter' + '.jpeg')\n",
    "plt.savefig(filename, dpi=400)\n",
    "plt.show()"
   ]
  },
  {
   "cell_type": "code",
   "execution_count": 28,
   "id": "078cc47a",
   "metadata": {},
   "outputs": [
    {
     "data": {
      "image/png": "[encoded data removed]",
      "text/plain": [
       "<Figure size 432x288 with 1 Axes>"
      ]
     },
     "metadata": {
      "needs_background": "light"
     },
     "output_type": "display_data"
    }
   ],
   "source": [
    "# Plot Daily Cases and 7 Day Avg for Florida State\n",
    "plt.plot(filtered_df['date'], filtered_df['7_day_avg_inf'], label='New Cases')\n",
    "plt.title(\"Florida 7 Day Average Infection\")\n",
    "plt.legend()\n",
    "plt.xlabel('Date')\n",
    "plt.xticks(rotation=45)\n",
    "plt.ylabel('Daily Cases')\n",
    "plt.tight_layout()\n",
    "filename = os.path.join('Figure/Avg', 'FL_daily_7_day_avg_inf_filter' + '.jpeg')\n",
    "plt.savefig(filename, dpi=400)\n",
    "plt.show()"
   ]
  },
  {
   "cell_type": "code",
   "execution_count": 50,
   "id": "17ac8a48",
   "metadata": {},
   "outputs": [],
   "source": [
    "# Save data\n",
    "filtered_df.to_csv('processed_data.csv', index=False)"
   ]
  }
 ],
 "metadata": {
  "kernelspec": {
   "display_name": "Python 3 (ipykernel)",
   "language": "python",
   "name": "python3"
  },
  "language_info": {
   "codemirror_mode": {
    "name": "ipython",
    "version": 3
   },
   "file_extension": ".py",
   "mimetype": "text/x-python",
   "name": "python",
   "nbconvert_exporter": "python",
   "pygments_lexer": "ipython3",
   "version": "3.9.12"
  }
 },
 "nbformat": 4,
 "nbformat_minor": 5
}
